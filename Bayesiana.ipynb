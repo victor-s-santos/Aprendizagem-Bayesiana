{
 "cells": [
  {
   "cell_type": "markdown",
   "metadata": {},
   "source": [
    "## Exemplos de Aplicação do Algoritmo Naive Bayes\n",
    ">Filtros de Spam;\n",
    "\n",
    ">Mineração de Emoções;\n",
    "\n",
    ">Separação de Documentos\n",
    "\n",
    "Obs: Todos os exemplos acima são baseados em classificação de textos"
   ]
  },
  {
   "cell_type": "code",
   "execution_count": null,
   "metadata": {},
   "outputs": [],
   "source": []
  }
 ],
 "metadata": {
  "kernelspec": {
   "display_name": "Python 3",
   "language": "python",
   "name": "python3"
  },
  "language_info": {
   "codemirror_mode": {
    "name": "ipython",
    "version": 3
   },
   "file_extension": ".py",
   "mimetype": "text/x-python",
   "name": "python",
   "nbconvert_exporter": "python",
   "pygments_lexer": "ipython3",
   "version": "3.8.3+"
  }
 },
 "nbformat": 4,
 "nbformat_minor": 4
}
